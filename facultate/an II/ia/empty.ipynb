{
 "cells": [
  {
   "cell_type": "code",
   "execution_count": 5,
   "metadata": {},
   "outputs": [
    {
     "data": {
      "image/png": "[encoded data removed]",
      "text/plain": [
       "<Figure size 432x288 with 1 Axes>"
      ]
     },
     "metadata": {
      "needs_background": "light"
     },
     "output_type": "display_data"
    }
   ],
   "source": [
    "import numpy as np\n",
    "import matplotlib.pyplot as plt\n",
    "\n",
    "train_images = np.loadtxt('lab2data/train_images.txt')\n",
    "train_labels = np.loadtxt('lab2data/train_labels.txt').astype(int)\n",
    "test_images = np.loadtxt('lab2data/test_images.txt')\n",
    "test_labels = np.loadtxt('lab2data/test_labels.txt').astype(int)\n",
    "\n",
    "image = train_images[0, :]\n",
    "image = np.reshape(image, (28, 28))\n",
    "\n",
    "plt.imshow(image.astype(np.uint8), cmap='gray')\n",
    "plt.show()"
   ]
  },
  {
   "cell_type": "code",
   "execution_count": 6,
   "metadata": {},
   "outputs": [
    {
     "data": {
      "text/plain": [
       "1.3956326530612244"
      ]
     },
     "execution_count": 6,
     "metadata": {},
     "output_type": "execute_result"
    }
   ],
   "source": [
    "def values_to_bins(X, num_bins):\n",
    "    bins = np.linspace(start=0, stop=255, num=num_bins)\n",
    "    return np.digitize(X, bins) \n",
    "\n",
    "values_to_bins(train_images, 5).mean()"
   ]
  },
  {
   "cell_type": "code",
   "execution_count": 7,
   "metadata": {},
   "outputs": [
    {
     "data": {
      "text/plain": [
       "0.806"
      ]
     },
     "execution_count": 7,
     "metadata": {},
     "output_type": "execute_result"
    }
   ],
   "source": [
    "from sklearn.naive_bayes import MultinomialNB\n",
    "\n",
    "clf = MultinomialNB()\n",
    "\n",
    "X_train = values_to_bins(train_images, 5)\n",
    "X_test = values_to_bins(test_images, 5)\n",
    "\n",
    "clf.fit(X_train, train_labels)\n",
    "\n",
    "clf.score(X_test, test_labels)"
   ]
  },
  {
   "cell_type": "code",
   "execution_count": 8,
   "metadata": {},
   "outputs": [
    {
     "name": "stdout",
     "output_type": "stream",
     "text": [
      "1 0.104\n",
      "4 0.806\n",
      "6 0.806\n",
      "8 0.81\n",
      "10 0.81\n",
      "16 0.818\n"
     ]
    }
   ],
   "source": [
    "for num_bins in [1, 4, 6, 8, 10, 16]:\n",
    "    clf = MultinomialNB()\n",
    "\n",
    "    X_train = values_to_bins(train_images, num_bins)\n",
    "    X_test = values_to_bins(test_images, num_bins)\n",
    "\n",
    "    clf.fit(X_train, train_labels)\n",
    "\n",
    "    accuracy = clf.score(X_test, test_labels)\n",
    "    \n",
    "    print(num_bins, accuracy)"
   ]
  },
  {
   "cell_type": "code",
   "execution_count": null,
   "metadata": {},
   "outputs": [],
   "source": []
  }
 ],
 "metadata": {
  "kernelspec": {
   "display_name": "Python 3",
   "language": "python",
   "name": "python3"
  },
  "language_info": {
   "codemirror_mode": {
    "name": "ipython",
    "version": 3
   },
   "file_extension": ".py",
   "mimetype": "text/x-python",
   "name": "python",
   "nbconvert_exporter": "python",
   "pygments_lexer": "ipython3",
   "version": "3.8.5"
  }
 },
 "nbformat": 4,
 "nbformat_minor": 4
}
