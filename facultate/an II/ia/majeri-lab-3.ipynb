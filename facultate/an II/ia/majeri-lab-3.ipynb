{
 "cells": [
  {
   "cell_type": "code",
   "execution_count": 29,
   "metadata": {},
   "outputs": [],
   "source": [
    "import numpy as np\n",
    "import matplotlib.pyplot as plt\n",
    "\n",
    "train_images = np.loadtxt('lab2data/train_images.txt')\n",
    "train_labels = np.loadtxt('lab2data/train_labels.txt').astype(np.int64)\n",
    "\n",
    "test_images = np.loadtxt('lab2data/test_images.txt')\n",
    "test_labels = np.loadtxt('lab2data/test_labels.txt').astype(np.int64)"
   ]
  },
  {
   "cell_type": "code",
   "execution_count": 31,
   "metadata": {},
   "outputs": [
    {
     "name": "stdout",
     "output_type": "stream",
     "text": [
      "Predicted class: 4\n"
     ]
    },
    {
     "data": {
      "image/png": "[encoded data removed]",
      "text/plain": [
       "<Figure size 432x288 with 1 Axes>"
      ]
     },
     "metadata": {
      "needs_background": "light"
     },
     "output_type": "display_data"
    }
   ],
   "source": [
    "class KNNClassifier:\n",
    "    def __init__(self, train_images, train_labels):\n",
    "        self.train_images = train_images\n",
    "        self.train_labels = train_labels\n",
    "\n",
    "    def classify_image(self, test_image, num_neighbors=3, metric='l2'):\n",
    "        if metric == 'l2':\n",
    "            distances = np.sum((train_images - test_image) ** 2, axis=-1)\n",
    "        elif metric == 'l1':\n",
    "            distances = np.sum(np.abs(train_images - test_image), axis=-1)\n",
    "\n",
    "        sorted_indexes = np.argsort(distances)\n",
    "\n",
    "        top_neighbors = self.train_labels[sorted_indexes[:num_neighbors]]\n",
    "\n",
    "        class_counts = np.bincount(top_neighbors)\n",
    "        \n",
    "        return np.argmax(class_counts)\n",
    "\n",
    "clf = KNNClassifier(train_images, train_labels)\n",
    "print('Predicted class:', clf.classify_image(train_images[0]))\n",
    "\n",
    "plt.imshow(train_images[0].reshape(28, 28), cmap='gray')\n",
    "plt.show()"
   ]
  },
  {
   "cell_type": "code",
   "execution_count": 21,
   "metadata": {},
   "outputs": [
    {
     "name": "stdout",
     "output_type": "stream",
     "text": [
      "Accuracy: 89.8%\n"
     ]
    }
   ],
   "source": [
    "predictions = []\n",
    "for test_image in test_images:\n",
    "    pred_label = clf.classify_image(test_image)\n",
    "    predictions.append(pred_label)\n",
    "\n",
    "pred_labels = np.array(predictions)\n",
    "\n",
    "np.savetxt('predictii_3nn_l2_mnist.txt', pred_labels)\n",
    "\n",
    "correct_count = np.sum(pred_labels == test_labels)\n",
    "total_count = len(test_labels)\n",
    "\n",
    "accuracy = correct_count / total_count\n",
    "\n",
    "print(f'Accuracy: {accuracy * 100}%')"
   ]
  },
  {
   "cell_type": "code",
   "execution_count": 23,
   "metadata": {},
   "outputs": [],
   "source": [
    "ks = [1, 3, 5, 7, 9]\n",
    "\n",
    "def compute_accuracy(metric):\n",
    "    accuracies = []\n",
    "\n",
    "    for k in ks:\n",
    "        correct_count = 0\n",
    "        for test_image, test_label in zip(test_images, test_labels):\n",
    "            pred_label = clf.classify_image(test_image, num_neighbors=k, metric=metric)\n",
    "            if pred_label == test_label:\n",
    "                correct_count += 1\n",
    "\n",
    "        accuracy = correct_count / len(test_images)\n",
    "            \n",
    "        accuracies.append(accuracy)\n",
    "\n",
    "    np.savetxt(f'acuratete_{metric}.txt', np.array(accuracies))\n",
    "\n",
    "compute_accuracy('l2')\n",
    "compute_accuracy('l1')"
   ]
  },
  {
   "cell_type": "code",
   "execution_count": 25,
   "metadata": {},
   "outputs": [
    {
     "data": {
      "image/png": "[encoded data removed]",
      "text/plain": [
       "<Figure size 432x288 with 1 Axes>"
      ]
     },
     "metadata": {
      "needs_background": "light"
     },
     "output_type": "display_data"
    }
   ],
   "source": [
    "l2_accs = np.loadtxt('acuratete_l2.txt')\n",
    "l1_accs = np.loadtxt('acuratete_l1.txt')\n",
    "\n",
    "plt.plot(l2_accs, label='L2')\n",
    "plt.plot(l1_accs, label='L1')\n",
    "\n",
    "plt.show()"
   ]
  }
 ],
 "metadata": {
  "kernelspec": {
   "display_name": "Python 3",
   "language": "python",
   "name": "python3"
  },
  "language_info": {
   "codemirror_mode": {
    "name": "ipython",
    "version": 3
   },
   "file_extension": ".py",
   "mimetype": "text/x-python",
   "name": "python",
   "nbconvert_exporter": "python",
   "pygments_lexer": "ipython3",
   "version": "3.8.5"
  }
 },
 "nbformat": 4,
 "nbformat_minor": 4
}
